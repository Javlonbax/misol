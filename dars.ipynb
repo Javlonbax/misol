{
 "cells": [
  {
   "cell_type": "markdown",
   "id": "1f54068a",
   "metadata": {},
   "source": [
    "Functions"
   ]
  },
  {
   "cell_type": "code",
   "execution_count": 18,
   "id": "f1fc7b35",
   "metadata": {},
   "outputs": [
    {
     "name": "stdout",
     "output_type": "stream",
     "text": [
      "man javlon san sardor\n"
     ]
    }
   ],
   "source": [
    "def nam(a='botir',b='sardor'):\n",
    "   print(f\"man {a} san {b}\")\n",
    "\n",
    "nam(\"javlon\")\n",
    "\n"
   ]
  },
  {
   "cell_type": "code",
   "execution_count": 24,
   "id": "51ebfe28",
   "metadata": {},
   "outputs": [
    {
     "name": "stdout",
     "output_type": "stream",
     "text": [
      "210\n"
     ]
    }
   ],
   "source": [
    "def add_numbers(*numbers):\n",
    "    print(sum(numbers))\n",
    "add_numbers(10,15,45,45,47,48)"
   ]
  },
  {
   "cell_type": "code",
   "execution_count": 25,
   "id": "6c2a624f",
   "metadata": {},
   "outputs": [
    {
     "name": "stdout",
     "output_type": "stream",
     "text": [
      "('10', '15', '45', '45', '47', '48')\n"
     ]
    }
   ],
   "source": [
    "def add_numbers(*numbers):\n",
    "    print(numbers)\n",
    "add_numbers('10','15','45','45','47','48')"
   ]
  },
  {
   "cell_type": "code",
   "execution_count": null,
   "id": "8a18b492",
   "metadata": {},
   "outputs": [
    {
     "ename": "NameError",
     "evalue": "name 'root' is not defined",
     "output_type": "error",
     "traceback": [
      "\u001b[31m---------------------------------------------------------------------------\u001b[39m",
      "\u001b[31mNameError\u001b[39m                                 Traceback (most recent call last)",
      "\u001b[36mCell\u001b[39m\u001b[36m \u001b[39m\u001b[32mIn[33]\u001b[39m\u001b[32m, line 5\u001b[39m\n\u001b[32m      3\u001b[39m         \u001b[38;5;28;01mif\u001b[39;00m \u001b[32m2\u001b[39m**i<n:\n\u001b[32m      4\u001b[39m             \u001b[38;5;28mprint\u001b[39m(\u001b[32m2\u001b[39m**i)\n\u001b[32m----> \u001b[39m\u001b[32m5\u001b[39m \u001b[43mfunc\u001b[49m\u001b[43m(\u001b[49m\u001b[32;43m20\u001b[39;49m\u001b[43m)\u001b[49m\n",
      "\u001b[36mCell\u001b[39m\u001b[36m \u001b[39m\u001b[32mIn[33]\u001b[39m\u001b[32m, line 2\u001b[39m, in \u001b[36mfunc\u001b[39m\u001b[34m(n)\u001b[39m\n\u001b[32m      1\u001b[39m \u001b[38;5;28;01mdef\u001b[39;00m\u001b[38;5;250m \u001b[39m\u001b[34mfunc\u001b[39m(n):\n\u001b[32m----> \u001b[39m\u001b[32m2\u001b[39m     \u001b[38;5;28;01mfor\u001b[39;00m i \u001b[38;5;129;01min\u001b[39;00m \u001b[38;5;28mrange\u001b[39m(\u001b[32m1\u001b[39m,\u001b[43mroot\u001b[49m(n)):\n\u001b[32m      3\u001b[39m         \u001b[38;5;28;01mif\u001b[39;00m \u001b[32m2\u001b[39m**i<n:\n\u001b[32m      4\u001b[39m             \u001b[38;5;28mprint\u001b[39m(\u001b[32m2\u001b[39m**i)\n",
      "\u001b[31mNameError\u001b[39m: name 'root' is not defined"
     ]
    }
   ],
   "source": [
    "def func(n):\n",
    "    for i in range(1,n):\n",
    "        if 2**i<n:\n",
    "            print(2**i)\n",
    "func(20)"
   ]
  },
  {
   "cell_type": "code",
   "execution_count": 32,
   "id": "3a984f10",
   "metadata": {},
   "outputs": [
    {
     "name": "stdout",
     "output_type": "stream",
     "text": [
      "2\n",
      "4\n",
      "8\n",
      "16\n"
     ]
    }
   ],
   "source": [
    "\n",
    "def func2(n):\n",
    "    a=1\n",
    "    while 2**a<n:\n",
    "        print (2**a)\n",
    "        a+=1\n",
    "\n",
    "func2(21)\n"
   ]
  },
  {
   "cell_type": "code",
   "execution_count": 46,
   "id": "86e89ab1",
   "metadata": {},
   "outputs": [
    {
     "name": "stdout",
     "output_type": "stream",
     "text": [
      "polidrom\n"
     ]
    }
   ],
   "source": [
    "def pol_func(soz):\n",
    "    if soz==soz[::-1]:\n",
    "        print('polidrom')\n",
    "    else:\n",
    "        print('polidrom emas')\n",
    "pol_func('abba')"
   ]
  },
  {
   "cell_type": "code",
   "execution_count": 47,
   "id": "35d3339e",
   "metadata": {},
   "outputs": [
    {
     "data": {
      "text/plain": [
       "'hello'"
      ]
     },
     "execution_count": 47,
     "metadata": {},
     "output_type": "execute_result"
    }
   ],
   "source": [
    "def ads():\n",
    "    return \"hello\"\n",
    "ads()\n",
    "\n"
   ]
  },
  {
   "cell_type": "code",
   "execution_count": 51,
   "id": "0d790309",
   "metadata": {},
   "outputs": [],
   "source": [
    "def replace_value(name):\n",
    "    with open ('example.txt') as f:\n",
    "        data=f.read()\n",
    "        data=data.replace('Dilshod',name)\n",
    "        return data\n",
    "new_data=replace_value('Mamur')\n",
    "with open('example.txt','w') as f:\n",
    "    f.write(new_data)"
   ]
  },
  {
   "cell_type": "code",
   "execution_count": 52,
   "id": "b9ed0c3b",
   "metadata": {},
   "outputs": [
    {
     "data": {
      "text/plain": [
       "{'blue': 3, 'red': 1, 'yellow': 1, 'green': 2}"
      ]
     },
     "execution_count": 52,
     "metadata": {},
     "output_type": "execute_result"
    }
   ],
   "source": [
    "ls=['blue','red','blue','yellow','green','blue','green']\n",
    "def func3(rang):\n",
    "    return ls.count(rang)\n",
    "d={}\n",
    "for r in ls:\n",
    "    d[r]=func3(r)\n",
    "d\n"
   ]
  },
  {
   "cell_type": "code",
   "execution_count": 53,
   "id": "c7e56ec4",
   "metadata": {},
   "outputs": [
    {
     "data": {
      "text/plain": [
       "{'blue': 3, 'red': 1, 'yellow': 1, 'green': 2}"
      ]
     },
     "execution_count": 53,
     "metadata": {},
     "output_type": "execute_result"
    }
   ],
   "source": [
    "d={}\n",
    "for word in ls:\n",
    "    if word not in d.keys():\n",
    "        d[word]=1\n",
    "    else:\n",
    "        d[word]=d[word]+1\n",
    "d"
   ]
  },
  {
   "cell_type": "code",
   "execution_count": 55,
   "id": "bc5578e8",
   "metadata": {},
   "outputs": [
    {
     "data": {
      "text/plain": [
       "120"
      ]
     },
     "execution_count": 55,
     "metadata": {},
     "output_type": "execute_result"
    }
   ],
   "source": [
    "def factorial(num):\n",
    "    if num in [0,1]:\n",
    "        return 1\n",
    "    else: return num*factorial(num-1)\n",
    "factorial(5)"
   ]
  },
  {
   "cell_type": "code",
   "execution_count": 56,
   "id": "00e2fe82",
   "metadata": {},
   "outputs": [
    {
     "data": {
      "text/plain": [
       "51"
      ]
     },
     "execution_count": 56,
     "metadata": {},
     "output_type": "execute_result"
    }
   ],
   "source": [
    "a= lambda x:x+1\n",
    "a(50)"
   ]
  }
 ],
 "metadata": {
  "kernelspec": {
   "display_name": "Python 3",
   "language": "python",
   "name": "python3"
  },
  "language_info": {
   "codemirror_mode": {
    "name": "ipython",
    "version": 3
   },
   "file_extension": ".py",
   "mimetype": "text/x-python",
   "name": "python",
   "nbconvert_exporter": "python",
   "pygments_lexer": "ipython3",
   "version": "3.12.10"
  }
 },
 "nbformat": 4,
 "nbformat_minor": 5
}
